{
 "cells": [
  {
   "cell_type": "code",
   "execution_count": 12,
   "id": "c1bb1cae",
   "metadata": {},
   "outputs": [],
   "source": [
    "from tensorflow.keras.preprocessing.image import ImageDataGenerator\n",
    "from tensorflow.keras.applications import MobileNetV2\n",
    "from tensorflow.keras.layers import AveragePooling2D\n",
    "from tensorflow.keras.layers import Dropout\n",
    "from tensorflow.keras.layers import Flatten\n",
    "from tensorflow.keras.layers import Dense\n",
    "from tensorflow.keras.layers import Input\n",
    "from tensorflow.keras.models import Model\n",
    "from tensorflow.keras.optimizers import Adam\n",
    "from tensorflow.keras.applications.mobilenet_v2 import preprocess_input\n",
    "from tensorflow.keras.preprocessing.image import img_to_array\n",
    "from tensorflow.keras.preprocessing.image import load_img\n",
    "from tensorflow.keras.utils import to_categorical\n",
    "from sklearn.preprocessing import LabelEncoder\n",
    "from sklearn.model_selection import train_test_split\n",
    "from sklearn.metrics import classification_report\n",
    "import matplotlib.pyplot as plt\n",
    "import numpy as np\n",
    "import argparse\n",
    "import os"
   ]
  },
  {
   "cell_type": "code",
   "execution_count": 13,
   "id": "0e920839",
   "metadata": {},
   "outputs": [],
   "source": [
    "INIT_LR = 1e-4\n",
    "EPOCHS = 20\n",
    "BS = 32\n",
    "directory=\"Data_complete_task2\"\n",
    "categories=[\"Mask_Chin\",\"Mask_Mouth_Chin\",\"Mask_Nose_Mouth\"]"
   ]
  },
  {
   "cell_type": "code",
   "execution_count": 14,
   "id": "18561059",
   "metadata": {},
   "outputs": [
    {
     "name": "stdout",
     "output_type": "stream",
     "text": [
      "[INFO] loading images...\n",
      "imagePath Mask_Chin\n",
      "imagePath Mask_Mouth_Chin\n",
      "imagePath Mask_Nose_Mouth\n"
     ]
    }
   ],
   "source": [
    "print(\"[INFO] loading images...\")\n",
    "\n",
    "data = []\n",
    "labels = []\n",
    "for imagePath in categories:\n",
    "    print('imagePath',imagePath)\n",
    "    path=os.path.join(directory,imagePath)\n",
    "    for img in os.listdir(path):\n",
    "        img_path=os.path.join(path,img)\n",
    "#         print('path',path,img_path)\n",
    "        image = load_img(img_path, target_size=(48, 48))\n",
    "        image = img_to_array(image)\n",
    "        image = preprocess_input(image)\n",
    "        data.append(image)\n",
    "        labels.append(imagePath)"
   ]
  },
  {
   "cell_type": "code",
   "execution_count": 15,
   "id": "38f2d242",
   "metadata": {},
   "outputs": [
    {
     "data": {
      "text/plain": [
       "array([0, 0, 0, ..., 2, 2, 2], dtype=int64)"
      ]
     },
     "execution_count": 15,
     "metadata": {},
     "output_type": "execute_result"
    }
   ],
   "source": [
    "lb = LabelEncoder()\n",
    "labels = lb.fit_transform(labels)\n",
    "labels"
   ]
  },
  {
   "cell_type": "code",
   "execution_count": 16,
   "id": "3173534d",
   "metadata": {},
   "outputs": [
    {
     "data": {
      "text/plain": [
       "array([[1., 0., 0.],\n",
       "       [1., 0., 0.],\n",
       "       [1., 0., 0.],\n",
       "       ...,\n",
       "       [0., 0., 1.],\n",
       "       [0., 0., 1.],\n",
       "       [0., 0., 1.]], dtype=float32)"
      ]
     },
     "execution_count": 16,
     "metadata": {},
     "output_type": "execute_result"
    }
   ],
   "source": [
    "labels = to_categorical(labels)\n",
    "data = np.array(data, dtype=\"float32\")\n",
    "labels = np.array(labels)\n",
    "labels"
   ]
  },
  {
   "cell_type": "code",
   "execution_count": 17,
   "id": "fcf20a86",
   "metadata": {},
   "outputs": [
    {
     "data": {
      "text/plain": [
       "<keras.preprocessing.image.ImageDataGenerator at 0x26f95d92460>"
      ]
     },
     "execution_count": 17,
     "metadata": {},
     "output_type": "execute_result"
    }
   ],
   "source": [
    "(trainX, testX, trainY, testY) = train_test_split(data, labels,test_size=0.20, stratify=labels, random_state=42)\n",
    "\n",
    "\n",
    "aug = ImageDataGenerator(\n",
    "    rotation_range=20,\n",
    "    zoom_range=0.15,\n",
    "    width_shift_range=0.2,\n",
    "    height_shift_range=0.2,\n",
    "    shear_range=0.15,\n",
    "    horizontal_flip=True,\n",
    "    fill_mode=\"nearest\",\n",
    ")\n",
    "aug"
   ]
  },
  {
   "cell_type": "code",
   "execution_count": 18,
   "id": "c646e963",
   "metadata": {},
   "outputs": [
    {
     "name": "stdout",
     "output_type": "stream",
     "text": [
      "WARNING:tensorflow:`input_shape` is undefined or non-square, or `rows` is not in [96, 128, 160, 192, 224]. Weights for input shape (224, 224) will be loaded as the default.\n",
      "KerasTensor(type_spec=TensorSpec(shape=(None, 2, 2, 1280), dtype=tf.float32, name=None), name='out_relu/Relu6:0', description=\"created by layer 'out_relu'\")\n"
     ]
    }
   ],
   "source": [
    "baseModel = MobileNetV2(weights=\"imagenet\", include_top=False,\n",
    "                        input_tensor=Input(shape=(48, 48, 3)),\n",
    "                       classes=3)\n",
    "print(baseModel.output)\n",
    "headModel = baseModel.output\n",
    "headModel = AveragePooling2D(pool_size=(2, 2))(headModel)\n",
    "headModel = Flatten(name=\"flatten\")(headModel)\n",
    "headModel = Dense(48, activation=\"relu\")(headModel)\n",
    "headModel = Dropout(0.5)(headModel)\n",
    "headModel = Dense(3, activation=\"softmax\")(headModel)"
   ]
  },
  {
   "cell_type": "code",
   "execution_count": 19,
   "id": "2fbbdfc3",
   "metadata": {},
   "outputs": [
    {
     "name": "stdout",
     "output_type": "stream",
     "text": [
      "<keras.engine.functional.Functional object at 0x0000026F98D1B970>\n",
      "[INFO] compiling model...\n"
     ]
    },
    {
     "name": "stderr",
     "output_type": "stream",
     "text": [
      "C:\\Users\\Rajath.DESKTOP-ELKQ6GV\\anaconda3\\lib\\site-packages\\keras\\optimizer_v2\\adam.py:105: UserWarning: The `lr` argument is deprecated, use `learning_rate` instead.\n",
      "  super(Adam, self).__init__(name, **kwargs)\n"
     ]
    }
   ],
   "source": [
    "model = Model(inputs=baseModel.input, outputs=headModel)\n",
    "print(model)\n",
    "for layer in baseModel.layers:\n",
    "    layer.trainable = False\n",
    "\n",
    "print(\"[INFO] compiling model...\")\n",
    "opt = Adam(lr=INIT_LR, decay=INIT_LR / EPOCHS)\n",
    "model.compile(loss=\"categorical_crossentropy\", optimizer=opt, metrics=[\"accuracy\"])"
   ]
  },
  {
   "cell_type": "code",
   "execution_count": 20,
   "id": "c7e7526e",
   "metadata": {},
   "outputs": [
    {
     "name": "stdout",
     "output_type": "stream",
     "text": [
      "[INFO] training head...\n",
      "Epoch 1/20\n",
      "626/626 [==============================] - ETA: 0s - loss: 1.0848 - accuracy: 0.5294WARNING:tensorflow:Your input ran out of data; interrupting training. Make sure that your dataset or generator can generate at least `steps_per_epoch * epochs` batches (in this case, 156 batches). You may need to use the repeat() function when building your dataset.\n",
      "626/626 [==============================] - 84s 120ms/step - loss: 1.0848 - accuracy: 0.5294 - val_loss: 0.8406 - val_accuracy: 0.6025\n",
      "Epoch 2/20\n",
      "626/626 [==============================] - 66s 106ms/step - loss: 0.8345 - accuracy: 0.6106\n",
      "Epoch 3/20\n",
      "626/626 [==============================] - 70s 112ms/step - loss: 0.7852 - accuracy: 0.6369\n",
      "Epoch 4/20\n",
      "626/626 [==============================] - 67s 107ms/step - loss: 0.7493 - accuracy: 0.6540\n",
      "Epoch 5/20\n",
      "626/626 [==============================] - 71s 112ms/step - loss: 0.7274 - accuracy: 0.6732\n",
      "Epoch 6/20\n",
      "626/626 [==============================] - 78s 123ms/step - loss: 0.7070 - accuracy: 0.6813\n",
      "Epoch 7/20\n",
      "626/626 [==============================] - 67s 107ms/step - loss: 0.6940 - accuracy: 0.6907\n",
      "Epoch 8/20\n",
      "626/626 [==============================] - 61s 97ms/step - loss: 0.6915 - accuracy: 0.6899\n",
      "Epoch 9/20\n",
      "626/626 [==============================] - 66s 105ms/step - loss: 0.6749 - accuracy: 0.6998\n",
      "Epoch 10/20\n",
      "626/626 [==============================] - 63s 99ms/step - loss: 0.6688 - accuracy: 0.7037\n",
      "Epoch 11/20\n",
      "626/626 [==============================] - 67s 106ms/step - loss: 0.6663 - accuracy: 0.7024\n",
      "Epoch 12/20\n",
      "626/626 [==============================] - 65s 104ms/step - loss: 0.6606 - accuracy: 0.7081\n",
      "Epoch 13/20\n",
      "626/626 [==============================] - 63s 101ms/step - loss: 0.6580 - accuracy: 0.7099\n",
      "Epoch 14/20\n",
      "626/626 [==============================] - 72s 115ms/step - loss: 0.6447 - accuracy: 0.7135\n",
      "Epoch 15/20\n",
      "626/626 [==============================] - 71s 112ms/step - loss: 0.6407 - accuracy: 0.7156\n",
      "Epoch 16/20\n",
      "626/626 [==============================] - 62s 100ms/step - loss: 0.6445 - accuracy: 0.7101\n",
      "Epoch 17/20\n",
      "626/626 [==============================] - 64s 102ms/step - loss: 0.6385 - accuracy: 0.7188\n",
      "Epoch 18/20\n",
      "626/626 [==============================] - 56s 89ms/step - loss: 0.6345 - accuracy: 0.7269\n",
      "Epoch 19/20\n",
      "626/626 [==============================] - 66s 105ms/step - loss: 0.6385 - accuracy: 0.7184\n",
      "Epoch 20/20\n",
      "626/626 [==============================] - 61s 97ms/step - loss: 0.6293 - accuracy: 0.72110s - loss: 0.6\n",
      "[INFO] evaluating network...\n"
     ]
    }
   ],
   "source": [
    "print(\"[INFO] training head...\")\n",
    "H = model.fit(aug.flow(trainX, trainY, batch_size=BS),steps_per_epoch=len(trainX) // BS, validation_data=(testX, testY),\n",
    "    validation_steps=len(testX) // BS,\n",
    "    epochs=EPOCHS)\n",
    "\n",
    "# make predictions on the testing set\n",
    "print(\"[INFO] evaluating network...\")\n",
    "predIdxs = model.predict(testX, batch_size=BS)"
   ]
  },
  {
   "cell_type": "code",
   "execution_count": 21,
   "id": "4898c74f",
   "metadata": {},
   "outputs": [
    {
     "name": "stdout",
     "output_type": "stream",
     "text": [
      "                 precision    recall  f1-score   support\n",
      "\n",
      "      Mask_Chin       0.81      0.29      0.43       967\n",
      "Mask_Mouth_Chin       0.69      0.89      0.78      2795\n",
      "Mask_Nose_Mouth       0.73      0.60      0.66      1249\n",
      "\n",
      "       accuracy                           0.70      5011\n",
      "      macro avg       0.74      0.59      0.62      5011\n",
      "   weighted avg       0.72      0.70      0.68      5011\n",
      "\n"
     ]
    }
   ],
   "source": [
    "predIdxs = np.argmax(predIdxs, axis=1)\n",
    "print(classification_report(testY.argmax(axis=1), predIdxs,target_names=lb.classes_))"
   ]
  },
  {
   "cell_type": "code",
   "execution_count": 10,
   "id": "06ed27ed",
   "metadata": {},
   "outputs": [
    {
     "name": "stdout",
     "output_type": "stream",
     "text": [
      "[INFO] training head...\n",
      "Epoch 1/20\n",
      "499/499 [==============================] - ETA: 0s - loss: 1.1628 - accuracy: 0.4501WARNING:tensorflow:Your input ran out of data; interrupting training. Make sure that your dataset or generator can generate at least `steps_per_epoch * epochs` batches (in this case, 124 batches). You may need to use the repeat() function when building your dataset.\n",
      "499/499 [==============================] - 79s 141ms/step - loss: 1.1628 - accuracy: 0.4501 - val_loss: 0.9279 - val_accuracy: 0.5483\n",
      "Epoch 2/20\n",
      "499/499 [==============================] - 56s 113ms/step - loss: 0.9029 - accuracy: 0.5572\n",
      "Epoch 3/20\n",
      "499/499 [==============================] - 61s 121ms/step - loss: 0.8398 - accuracy: 0.5980\n",
      "Epoch 4/20\n",
      "499/499 [==============================] - ETA: 0s - loss: 0.7972 - accuracy: 0.62 - 67s 135ms/step - loss: 0.7972 - accuracy: 0.6250\n",
      "Epoch 5/20\n",
      "499/499 [==============================] - 53s 107ms/step - loss: 0.7788 - accuracy: 0.6353\n",
      "Epoch 6/20\n",
      "499/499 [==============================] - 48s 96ms/step - loss: 0.7469 - accuracy: 0.6571\n",
      "Epoch 7/20\n",
      "499/499 [==============================] - 66s 132ms/step - loss: 0.7363 - accuracy: 0.6673\n",
      "Epoch 8/20\n",
      "499/499 [==============================] - 59s 117ms/step - loss: 0.7176 - accuracy: 0.6767\n",
      "Epoch 9/20\n",
      "499/499 [==============================] - 53s 106ms/step - loss: 0.7199 - accuracy: 0.6724\n",
      "Epoch 10/20\n",
      "499/499 [==============================] - 55s 109ms/step - loss: 0.7139 - accuracy: 0.6756\n",
      "Epoch 11/20\n",
      "499/499 [==============================] - 48s 95ms/step - loss: 0.6954 - accuracy: 0.6882\n",
      "Epoch 12/20\n",
      "499/499 [==============================] - 46s 92ms/step - loss: 0.6784 - accuracy: 0.6961\n",
      "Epoch 13/20\n",
      "499/499 [==============================] - 56s 111ms/step - loss: 0.6886 - accuracy: 0.6924s - loss: 0.6\n",
      "Epoch 14/20\n",
      "499/499 [==============================] - 47s 93ms/step - loss: 0.6878 - accuracy: 0.6953\n",
      "Epoch 15/20\n",
      "499/499 [==============================] - 48s 96ms/step - loss: 0.6871 - accuracy: 0.6893\n",
      "Epoch 16/20\n",
      "499/499 [==============================] - 46s 93ms/step - loss: 0.6792 - accuracy: 0.6959\n",
      "Epoch 17/20\n",
      "499/499 [==============================] - 50s 99ms/step - loss: 0.6785 - accuracy: 0.6944\n",
      "Epoch 18/20\n",
      "499/499 [==============================] - 51s 102ms/step - loss: 0.6696 - accuracy: 0.7032\n",
      "Epoch 19/20\n",
      "499/499 [==============================] - 46s 92ms/step - loss: 0.6712 - accuracy: 0.6973\n",
      "Epoch 20/20\n",
      "499/499 [==============================] - 46s 93ms/step - loss: 0.6665 - accuracy: 0.7079\n",
      "[INFO] evaluating network...\n"
     ]
    }
   ],
   "source": [
    "print(\"[INFO] training head...\")\n",
    "H = model.fit(aug.flow(trainX, trainY, batch_size=BS),steps_per_epoch=len(trainX) // BS, validation_data=(testX, testY),\n",
    "    validation_steps=len(testX) // BS,\n",
    "    epochs=EPOCHS)\n",
    "\n",
    "# make predictions on the testing set\n",
    "print(\"[INFO] evaluating network...\")\n",
    "predIdxs = model.predict(testX, batch_size=BS)"
   ]
  },
  {
   "cell_type": "code",
   "execution_count": 11,
   "id": "7b186ef8",
   "metadata": {},
   "outputs": [
    {
     "name": "stdout",
     "output_type": "stream",
     "text": [
      "                 precision    recall  f1-score   support\n",
      "\n",
      "      Mask_Chin       0.80      0.43      0.56       967\n",
      "Mask_Mouth_Chin       0.63      0.81      0.71      1778\n",
      "Mask_Nose_Mouth       0.74      0.70      0.72      1249\n",
      "\n",
      "       accuracy                           0.68      3994\n",
      "      macro avg       0.72      0.65      0.66      3994\n",
      "   weighted avg       0.71      0.68      0.68      3994\n",
      "\n"
     ]
    }
   ],
   "source": [
    "predIdxs = np.argmax(predIdxs, axis=1)\n",
    "print(classification_report(testY.argmax(axis=1), predIdxs,target_names=lb.classes_))"
   ]
  },
  {
   "cell_type": "code",
   "execution_count": 15,
   "id": "4ebeeeef",
   "metadata": {},
   "outputs": [
    {
     "name": "stdout",
     "output_type": "stream",
     "text": [
      "[INFO] training head...\n",
      "Epoch 1/20\n",
      "1668/1668 [==============================] - ETA: 0s - loss: 0.6094 - accuracy: 0.8123WARNING:tensorflow:Your input ran out of data; interrupting training. Make sure that your dataset or generator can generate at least `steps_per_epoch * epochs` batches (in this case, 417 batches). You may need to use the repeat() function when building your dataset.\n",
      "1668/1668 [==============================] - 205s 120ms/step - loss: 0.6094 - accuracy: 0.8123 - val_loss: 0.4820 - val_accuracy: 0.8358\n",
      "Epoch 2/20\n",
      "1668/1668 [==============================] - 170s 102ms/step - loss: 0.4911 - accuracy: 0.8330 - loss: 0.4911 - accuracy: 0.\n",
      "Epoch 3/20\n",
      "1668/1668 [==============================] - 174s 104ms/step - loss: 0.4606 - accuracy: 0.8383\n",
      "Epoch 4/20\n",
      "1668/1668 [==============================] - 176s 105ms/step - loss: 0.4476 - accuracy: 0.8414\n",
      "Epoch 5/20\n",
      "1668/1668 [==============================] - 178s 107ms/step - loss: 0.4373 - accuracy: 0.8430\n",
      "Epoch 6/20\n",
      "1668/1668 [==============================] - 170s 102ms/step - loss: 0.4269 - accuracy: 0.8460\n",
      "Epoch 7/20\n",
      "1668/1668 [==============================] - 174s 104ms/step - loss: 0.4215 - accuracy: 0.8452\n",
      "Epoch 8/20\n",
      "1668/1668 [==============================] - 167s 100ms/step - loss: 0.4166 - accuracy: 0.8480\n",
      "Epoch 9/20\n",
      "1668/1668 [==============================] - 169s 101ms/step - loss: 0.4146 - accuracy: 0.8474\n",
      "Epoch 10/20\n",
      "1668/1668 [==============================] - 143s 86ms/step - loss: 0.4071 - accuracy: 0.8497\n",
      "Epoch 11/20\n",
      "1668/1668 [==============================] - 113s 67ms/step - loss: 0.4097 - accuracy: 0.8496\n",
      "Epoch 12/20\n",
      "1668/1668 [==============================] - 114s 68ms/step - loss: 0.4045 - accuracy: 0.8506\n",
      "Epoch 13/20\n",
      "1668/1668 [==============================] - 113s 68ms/step - loss: 0.3983 - accuracy: 0.8511\n",
      "Epoch 14/20\n",
      "1668/1668 [==============================] - 113s 68ms/step - loss: 0.3972 - accuracy: 0.8521\n",
      "Epoch 15/20\n",
      "1668/1668 [==============================] - 113s 68ms/step - loss: 0.3931 - accuracy: 0.8527\n",
      "Epoch 16/20\n",
      "1668/1668 [==============================] - 113s 68ms/step - loss: 0.3965 - accuracy: 0.8527\n",
      "Epoch 17/20\n",
      "1668/1668 [==============================] - 112s 67ms/step - loss: 0.3955 - accuracy: 0.8532\n",
      "Epoch 18/20\n",
      "1668/1668 [==============================] - 113s 68ms/step - loss: 0.3939 - accuracy: 0.8544\n",
      "Epoch 19/20\n",
      "1668/1668 [==============================] - 113s 68ms/step - loss: 0.3930 - accuracy: 0.8544\n",
      "Epoch 20/20\n",
      "1668/1668 [==============================] - 113s 68ms/step - loss: 0.3943 - accuracy: 0.8542\n",
      "[INFO] evaluating network...\n"
     ]
    }
   ],
   "source": [
    "print(\"[INFO] training head...\")\n",
    "H = model.fit(aug.flow(trainX, trainY, batch_size=BS),steps_per_epoch=len(trainX) // BS, validation_data=(testX, testY),\n",
    "    validation_steps=len(testX) // BS,\n",
    "    epochs=EPOCHS)\n",
    "\n",
    "# make predictions on the testing set\n",
    "print(\"[INFO] evaluating network...\")\n",
    "predIdxs = model.predict(testX, batch_size=BS)"
   ]
  },
  {
   "cell_type": "code",
   "execution_count": 16,
   "id": "338c4cc8",
   "metadata": {},
   "outputs": [
    {
     "name": "stdout",
     "output_type": "stream",
     "text": [
      "                 precision    recall  f1-score   support\n",
      "\n",
      "      Mask_Chin       0.84      0.05      0.09       967\n",
      "Mask_Mouth_Chin       0.85      0.99      0.92     11131\n",
      "Mask_Nose_Mouth       0.77      0.19      0.31      1249\n",
      "\n",
      "       accuracy                           0.85     13347\n",
      "      macro avg       0.82      0.41      0.44     13347\n",
      "   weighted avg       0.84      0.85      0.80     13347\n",
      "\n"
     ]
    }
   ],
   "source": [
    "predIdxs = np.argmax(predIdxs, axis=1)\n",
    "print(classification_report(testY.argmax(axis=1), predIdxs,target_names=lb.classes_))"
   ]
  },
  {
   "cell_type": "code",
   "execution_count": null,
   "id": "2361b7e2",
   "metadata": {},
   "outputs": [],
   "source": []
  }
 ],
 "metadata": {
  "kernelspec": {
   "display_name": "Python 3",
   "language": "python",
   "name": "python3"
  },
  "language_info": {
   "codemirror_mode": {
    "name": "ipython",
    "version": 3
   },
   "file_extension": ".py",
   "mimetype": "text/x-python",
   "name": "python",
   "nbconvert_exporter": "python",
   "pygments_lexer": "ipython3",
   "version": "3.8.8"
  }
 },
 "nbformat": 4,
 "nbformat_minor": 5
}
