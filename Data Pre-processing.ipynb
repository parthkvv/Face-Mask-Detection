{
 "cells": [
  {
   "cell_type": "code",
   "execution_count": 5,
   "id": "c9b2811f",
   "metadata": {},
   "outputs": [
    {
     "name": "stdout",
     "output_type": "stream",
     "text": [
      "Wall time: 0 ns\n",
      "35\n",
      "35000\n",
      "36000\n",
      "37000\n",
      "38000\n",
      "39000\n",
      "40000\n",
      "41000\n",
      "42000\n",
      "43000\n",
      "44000\n",
      "45000\n",
      "46000\n",
      "47000\n",
      "48000\n",
      "49000\n",
      "50000\n",
      "51000\n",
      "52000\n",
      "53000\n",
      "54000\n",
      "55000\n",
      "56000\n",
      "57000\n",
      "58000\n",
      "59000\n",
      "60000\n",
      "61000\n",
      "62000\n",
      "63000\n",
      "64000\n",
      "65000\n",
      "66000\n",
      "67000\n",
      "68000\n",
      "69000\n"
     ]
    }
   ],
   "source": [
    "%time\n",
    "import os,cv2\n",
    "import glob\n",
    "\n",
    "path = r'E:/Face-Mask-Detection-Using-MobileNETV2--main/Face-Mask-Detection-Using-MobileNETV2--main' # Source Folder\n",
    "dstpath = r'E:\\Face-Mask-Detection-Using-MobileNETV2--main\\Face-Mask-Detection-Using-MobileNETV2--main\\ouput2_rgb_womask'\n",
    "fold = os.listdir(path+'/IMFD1')\n",
    "print(len(fold))\n",
    "\n",
    "for folders in fold:\n",
    "    print(folders)\n",
    "    files = os.listdir(path+'/IMFD1/'+folders)\n",
    "    path1 = path+'/IMFD1/'+folders\n",
    "    \n",
    "    for filename in files:\n",
    "        \n",
    "        img = cv2.imread(os.path.join(path1,filename))\n",
    "        img1 = cv2.resize(img, (128, 128))\n",
    "        cv2.imwrite(os.path.join(dstpath,filename),img1)"
   ]
  },
  {
   "cell_type": "code",
   "execution_count": 6,
   "id": "6ae22ba7",
   "metadata": {},
   "outputs": [
    {
     "name": "stdout",
     "output_type": "stream",
     "text": [
      "Wall time: 0 ns\n",
      "35\n",
      "35000\n",
      "36000\n",
      "37000\n",
      "38000\n",
      "39000\n",
      "40000\n",
      "41000\n",
      "42000\n",
      "43000\n",
      "44000\n",
      "45000\n",
      "46000\n",
      "47000\n",
      "48000\n",
      "49000\n",
      "50000\n",
      "51000\n",
      "52000\n",
      "53000\n",
      "54000\n",
      "55000\n",
      "56000\n",
      "57000\n",
      "58000\n",
      "59000\n",
      "60000\n",
      "61000\n",
      "62000\n",
      "63000\n",
      "64000\n",
      "65000\n",
      "66000\n",
      "67000\n",
      "68000\n",
      "69000\n"
     ]
    }
   ],
   "source": [
    "%time\n",
    "import os,cv2\n",
    "import glob\n",
    "\n",
    "path = r'E:/Face-Mask-Detection-Using-MobileNETV2--main/Face-Mask-Detection-Using-MobileNETV2--main' # Source Folder\n",
    "dstpath = r'E:\\Face-Mask-Detection-Using-MobileNETV2--main\\Face-Mask-Detection-Using-MobileNETV2--main\\ouput2_rgb_mask'\n",
    "fold = os.listdir(path+'/CMFD1')\n",
    "print(len(fold))\n",
    "\n",
    "for folders in fold:\n",
    "    print(folders)\n",
    "    files = os.listdir(path+'/CMFD1/'+folders)\n",
    "    path1 = path+'/CMFD1/'+folders\n",
    "    \n",
    "    for filename in files:\n",
    "        \n",
    "        img = cv2.imread(os.path.join(path1,filename))\n",
    "        img1 = cv2.resize(img, (128, 128))\n",
    "        cv2.imwrite(os.path.join(dstpath,filename),img1)"
   ]
  },
  {
   "cell_type": "code",
   "execution_count": 7,
   "id": "10a67ef3",
   "metadata": {},
   "outputs": [
    {
     "name": "stdout",
     "output_type": "stream",
     "text": [
      "33181\n"
     ]
    }
   ],
   "source": [
    "fold = os.listdir(path+'/ouput2_rgb_womask')\n",
    "print(len(fold))\n",
    "import shutil\n",
    "dstpath = r'E:\\Face-Mask-Detection-Using-MobileNETV2--main\\Face-Mask-Detection-Using-MobileNETV2--main\\Datav3_v1' # Destination Folder\n",
    "\n",
    "for i,f in enumerate(fold):\n",
    "    shutil.copy(os.path.join(path+'/ouput2_rgb_womask', f), dstpath+'\\wo_mask')"
   ]
  },
  {
   "cell_type": "code",
   "execution_count": 8,
   "id": "8e3f0c65",
   "metadata": {},
   "outputs": [
    {
     "name": "stdout",
     "output_type": "stream",
     "text": [
      "33362\n"
     ]
    }
   ],
   "source": [
    "fold = os.listdir(path+'/ouput2_rgb_mask')\n",
    "print(len(fold))\n",
    "import shutil\n",
    "dstpath = r'E:\\Face-Mask-Detection-Using-MobileNETV2--main\\Face-Mask-Detection-Using-MobileNETV2--main\\Datav3_v1' # Destination Folder\n",
    "\n",
    "for i,f in enumerate(fold):\n",
    "    shutil.copy(os.path.join(path+'/ouput2_rgb_mask', f), dstpath+'\\with_mask')"
   ]
  },
  {
   "cell_type": "code",
   "execution_count": 10,
   "id": "ad2cf23b",
   "metadata": {},
   "outputs": [],
   "source": [
    "import time"
   ]
  },
  {
   "cell_type": "code",
   "execution_count": 11,
   "id": "b8d44eb7",
   "metadata": {},
   "outputs": [
    {
     "name": "stdout",
     "output_type": "stream",
     "text": [
      "Wall time: 0 ns\n",
      "33181\n",
      "392.72887802124023\n"
     ]
    }
   ],
   "source": [
    "%time\n",
    "import os,cv2\n",
    "import glob\n",
    "\n",
    "path = r'E:/Face-Mask-Detection-Using-MobileNETV2--main/Face-Mask-Detection-Using-MobileNETV2--main/Datav3_v1/wo_mask' # Source Folder\n",
    "dstpath_1 = r'E:\\Face-Mask-Detection-Using-MobileNETV2--main\\Face-Mask-Detection-Using-MobileNETV2--main\\Datav3_v2\\Mask_Chin'\n",
    "dstpath_2 = r'E:\\Face-Mask-Detection-Using-MobileNETV2--main\\Face-Mask-Detection-Using-MobileNETV2--main\\Datav3_v2\\Mask_Mouth_Chin'\n",
    "dstpath_3 = r'E:\\Face-Mask-Detection-Using-MobileNETV2--main\\Face-Mask-Detection-Using-MobileNETV2--main\\Datav3_v2\\Mask_Nose_Mouth'\n",
    "\n",
    "start_time = time.time()\n",
    "fold = os.listdir(path)\n",
    "print(len(fold))\n",
    "\n",
    "path_to = \"\"\n",
    "for filename in fold:\n",
    "\n",
    "    img = cv2.imread(os.path.join(path,filename))\n",
    "    if \"Mask_Chin\" in filename:\n",
    "        path_to = dstpath_1\n",
    "    elif \"Mask_Mouth_Chin\" in filename:\n",
    "        path_to = dstpath_2\n",
    "    elif \"Mask_Nose_Mouth\" in filename:\n",
    "        path_to = dstpath_3        \n",
    "    cv2.imwrite(os.path.join(path_to,filename),img)\n",
    "\n",
    "time_elapsed = time.time() - start_time\n",
    "print(time_elapsed)"
   ]
  },
  {
   "cell_type": "code",
   "execution_count": null,
   "id": "bf3aef20",
   "metadata": {},
   "outputs": [],
   "source": []
  }
 ],
 "metadata": {
  "kernelspec": {
   "display_name": "Python 3",
   "language": "python",
   "name": "python3"
  },
  "language_info": {
   "codemirror_mode": {
    "name": "ipython",
    "version": 3
   },
   "file_extension": ".py",
   "mimetype": "text/x-python",
   "name": "python",
   "nbconvert_exporter": "python",
   "pygments_lexer": "ipython3",
   "version": "3.8.8"
  }
 },
 "nbformat": 4,
 "nbformat_minor": 5
}
